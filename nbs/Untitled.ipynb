{
 "cells": [
  {
   "cell_type": "code",
   "execution_count": null,
   "id": "cdb4b3d7-09bd-488f-ba60-b8450e23d35f",
   "metadata": {},
   "outputs": [],
   "source": []
  }
 ],
 "metadata": {
  "kernelspec": {
   "display_name": "python3",
   "language": "python",
   "name": "python3"
  }
 },
 "nbformat": 4,
 "nbformat_minor": 5
}
