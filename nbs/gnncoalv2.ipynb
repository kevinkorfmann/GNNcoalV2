{
 "cells": [
  {
   "cell_type": "code",
   "execution_count": null,
   "id": "4af81696-a349-4753-a948-33a34bb6f0d5",
   "metadata": {},
   "outputs": [],
   "source": [
    "#| default_exp gnncoalv2"
   ]
  },
  {
   "cell_type": "code",
   "execution_count": null,
   "id": "b1fb241e-33e9-4e0a-a603-c49abdd7bbe1",
   "metadata": {},
   "outputs": [],
   "source": []
  },
  {
   "cell_type": "code",
   "execution_count": null,
   "id": "c9fd474e-b3e5-4656-ac8e-986b38da3c78",
   "metadata": {},
   "outputs": [],
   "source": [
    "#| export\n",
    "import torch\n",
    "import torch.nn as nn\n",
    "from torch_geometric.nn.dense.dense_gcn_conv import DenseGCNConv\n",
    "from math import ceil\n",
    "import torch.nn.functional as F\n",
    "from torch_geometric.nn import dense_diff_pool\n",
    "from x_transformers import Encoder\n",
    "\n",
    "import random\n",
    "import numpy as np\n",
    "import torch"
   ]
  },
  {
   "cell_type": "code",
   "execution_count": null,
   "id": "3e721da0-329e-40ac-b752-855c48a5e5f7",
   "metadata": {},
   "outputs": [],
   "source": [
    "#| export\n",
    "\n",
    "def seed_everything(seed=42):\n",
    "    \"\"\"Seed all random number generators.\"\"\"\n",
    "    random.seed(seed)\n",
    "    np.random.seed(seed)\n",
    "    torch.manual_seed(seed)\n",
    "    torch.cuda.manual_seed(seed)\n",
    "    torch.cuda.manual_seed_all(seed)\n",
    "    \n",
    "    # Ensure deterministic behavior (this can slow down training, so you might not always want it)\n",
    "    torch.backends.cudnn.deterministic = True\n",
    "    torch.backends.cudnn.benchmark = False\n",
    "\n",
    "# Example usage:\n",
    "# seed_everything(42)\n"
   ]
  },
  {
   "cell_type": "code",
   "execution_count": null,
   "id": "4f67347f-7b8f-4ccc-923a-71dad7e0f704",
   "metadata": {},
   "outputs": [],
   "source": []
  },
  {
   "cell_type": "code",
   "execution_count": null,
   "id": "104d99fe-c480-45f1-9ad7-815901250aa6",
   "metadata": {},
   "outputs": [],
   "source": [
    "#| export\n",
    "\n",
    "class GNN(nn.Module):\n",
    "    def __init__(self, in_channels, hidden_channels, out_channels, linearize=True):\n",
    "        super(GNN, self).__init__()\n",
    "\n",
    "        self.convs = nn.ModuleList([\n",
    "            DenseGCNConv(in_channels, hidden_channels, improved=True),\n",
    "            DenseGCNConv(hidden_channels, hidden_channels, improved=True),\n",
    "            DenseGCNConv(hidden_channels, out_channels, improved=True)\n",
    "        ])\n",
    "\n",
    "        self.norms = nn.ModuleList([\n",
    "            nn.LayerNorm(hidden_channels),\n",
    "            nn.LayerNorm(hidden_channels),\n",
    "            nn.LayerNorm(out_channels)\n",
    "        ])\n",
    "\n",
    "        self.linearize = linearize\n",
    "        if self.linearize: self.linear = nn.Linear(2 * hidden_channels + out_channels, out_channels)\n",
    "        else: self.linear = None\n",
    "        \n",
    "\n",
    "    def forward(self, x, adj):\n",
    "        xs = []\n",
    "        for conv, norm in zip(self.convs, self.norms):\n",
    "            x = F.relu(conv(x, adj))\n",
    "            x = norm(x)\n",
    "            xs.append(x)\n",
    "        x = torch.cat(xs, dim=-1)\n",
    "        \n",
    "        if self.linearize: return F.relu(self.linear(x))\n",
    "        else: return x"
   ]
  },
  {
   "cell_type": "code",
   "execution_count": null,
   "id": "dc9f1ab5-b52b-453f-b10c-3feab77eef2a",
   "metadata": {},
   "outputs": [],
   "source": [
    "#| export\n",
    "\n",
    "class DiffPoolConvolutionPart(nn.Module):\n",
    "    def __init__(self, max_nodes, num_features, num_hidden=64):\n",
    "        super().__init__()\n",
    "\n",
    "        self.layers = []\n",
    "        num_nodes = ceil(0.3 * max_nodes)\n",
    "        \n",
    "        for _ in range(2):  \n",
    "            self.layers.append({\n",
    "                'pool': GNN(num_features, num_hidden, num_nodes),\n",
    "                'embed': GNN(num_features, num_hidden, num_hidden, linearize=False)\n",
    "            })\n",
    "            num_features = 3 * num_hidden\n",
    "            num_nodes = ceil(0.3 * num_nodes)\n",
    "            \n",
    "        self.gnn3_embed = GNN(3 * num_hidden, num_hidden, num_hidden, linearize=False)\n",
    "\n",
    "    def forward(self, x, adj, batch_size, num_trees=500):\n",
    "        l_total, e_total = 0, 0\n",
    "        for layer in self.layers:\n",
    "            s = layer['pool'](x, adj)\n",
    "            x = layer['embed'](x, adj)\n",
    "            x, adj, l, e = dense_diff_pool(x, adj, s)\n",
    "            l_total += l\n",
    "            e_total += e\n",
    "            \n",
    "        x = self.gnn3_embed(x, adj)\n",
    "        x = x.mean(dim=1)\n",
    "        x = x.view(batch_size, num_trees, x.shape[-1])\n",
    "        \n",
    "        return x, l_total, e_total\n",
    "        \n",
    "#model = GNNcoalV2(max_nodes=19, num_features=60, num_hidden=64,  out_channels=60)"
   ]
  },
  {
   "cell_type": "code",
   "execution_count": null,
   "id": "416be919-589b-41d3-a732-6701f6c1837a",
   "metadata": {},
   "outputs": [],
   "source": [
    "#| export\n",
    "\n",
    "class MiniDenseNet(nn.Module):\n",
    "    def __init__(self, in_features, hidden_features, out_features):\n",
    "        super(MiniDenseNet, self).__init__()\n",
    "\n",
    "        self.net = nn.Sequential(\n",
    "            nn.Linear(in_features, hidden_features),\n",
    "            nn.ReLU(),\n",
    "            nn.Linear(hidden_features, hidden_features),\n",
    "            nn.ReLU(),\n",
    "            nn.Linear(hidden_features, out_features),\n",
    "        )\n",
    "\n",
    "    def forward(self, x):\n",
    "        return self.net(x)"
   ]
  },
  {
   "cell_type": "code",
   "execution_count": null,
   "id": "5a221421-a933-4f86-817e-c614d2af8dc6",
   "metadata": {},
   "outputs": [],
   "source": [
    "#| export\n",
    "\n",
    "def mean_over_n(emb, n=10):\n",
    "    # Unfold the tensor along dimension 1, using size n and step n\n",
    "    unfolded = emb.unfold(1, n, n)\n",
    "    # Compute the mean over the new last dimension\n",
    "    mean_values = unfolded.mean(dim=-1)\n",
    "    return mean_values"
   ]
  },
  {
   "cell_type": "code",
   "execution_count": null,
   "id": "160aa56a-a70f-4565-b6c1-e77dfc7763d5",
   "metadata": {},
   "outputs": [],
   "source": [
    "#| export\n",
    "\n",
    "class GNNcoalV2(nn.Module):\n",
    "    def __init__(self, max_nodes, num_features, num_hidden=64, out_dim=60,\n",
    "                 enc_heads = 4, enc_depth=8,\n",
    "                ):\n",
    "        super().__init__()\n",
    "\n",
    "        self.conv = DiffPoolConvolutionPart(max_nodes=max_nodes,\n",
    "                                            num_features=num_features,\n",
    "                                            num_hidden=num_hidden)\n",
    "        enc_dim = num_hidden * 3\n",
    "        self.encoder = Encoder(dim=enc_dim, depth=enc_depth, heads=enc_heads,\n",
    "                               ff_glu=True, residual_attn=True, flash=True)\n",
    "\n",
    "        self.demography_head = MiniDenseNet(enc_dim, enc_dim//2, out_dim)\n",
    "        self.alpha_head = MiniDenseNet(enc_dim, enc_dim//2, out_dim)\n",
    "        \n",
    "\n",
    "        \n",
    "\n",
    "    def forward(self, x, adj, batch_size, num_trees=500, num_trees_for_alpha=10):\n",
    "        emb, l_total, e_total = self.conv(x, adj, batch_size, num_trees)\n",
    "        emb = self.encoder(emb)    \n",
    "        \n",
    "        demo_emb = emb.mean(dim=1)\n",
    "        alpha_emb = mean_over_n(emb, num_trees_for_alpha)\n",
    "\n",
    "        demography_estimate = self.demography_head(demo_emb)\n",
    "        seq_alpha_estimate = self.alpha_head(alpha_emb)\n",
    "        \n",
    "        return demography_estimate, seq_alpha_estimate, l_total, e_total\n",
    "        \n",
    "\n",
    "# model = GNNcoalV2(max_nodes=19, num_features=60, num_hidden=64,  out_dim=60,\n",
    "#                   enc_heads=4, enc_depth=8,\n",
    "#                  )"
   ]
  },
  {
   "cell_type": "code",
   "execution_count": null,
   "id": "123104af-d8af-4820-bf3f-657b03b4a6d6",
   "metadata": {},
   "outputs": [],
   "source": [
    "#sum([p.numel() for p in model.parameters() if p.requires_grad == True])"
   ]
  },
  {
   "cell_type": "code",
   "execution_count": null,
   "id": "b2cc9514-1d25-434b-af48-b5c709e48d98",
   "metadata": {},
   "outputs": [],
   "source": []
  },
  {
   "cell_type": "code",
   "execution_count": null,
   "id": "944d094b-d265-4af0-8805-dee935ec5d4a",
   "metadata": {},
   "outputs": [],
   "source": [
    "# import msprime\n",
    "# import seaborn as sns\n",
    "# import matplotlib.pyplot as plt\n",
    "\n",
    "\n",
    "# tss = []\n",
    "\n",
    "# for i in range(32):\n",
    "#     ts = msprime.sim_ancestry(samples=10, population_size=10_000,\n",
    "#                               sequence_length=2e6, ploidy=1, recombination_rate=1e-8)\n",
    "#     tss.append(ts)"
   ]
  },
  {
   "cell_type": "code",
   "execution_count": null,
   "id": "328f63f5-276d-4a78-942d-6e3ca142cc8f",
   "metadata": {},
   "outputs": [],
   "source": []
  },
  {
   "cell_type": "code",
   "execution_count": null,
   "id": "3b049e0c-29db-4bee-bc6b-f7a08825eb9f",
   "metadata": {},
   "outputs": [],
   "source": [
    "# def ts_to_data_objects(ts, num_trees=500, num_embedding=60, y=None):\n",
    "#     max_num_nodes = 2 * ts.num_samples - 1\n",
    "#     data_objects = []\n",
    "#     for i, tree in enumerate(ts.trees()):\n",
    "#         if i < num_trees:\n",
    "#             data = from_networkx(nx.Graph(tree.as_dict_of_dicts()))\n",
    "#             data.edge_weight = data.branch_length \n",
    "#             data.branch_length  = None\n",
    "#             data.x = torch.eye(max_num_nodes, num_embedding)\n",
    "#             data.x[data.num_nodes:] = torch.zeros(num_embedding)\n",
    "#             data.num_nodes = max_num_nodes\n",
    "#             data.y = y\n",
    "#             data_objects.append(data)\n",
    "#     return data_objects"
   ]
  },
  {
   "cell_type": "code",
   "execution_count": null,
   "id": "4bd55d79-6a98-4432-9126-6cc867bc002a",
   "metadata": {},
   "outputs": [],
   "source": [
    "# data_objects = []\n",
    "# for ts in tss:\n",
    "#     i_data_object = ts_to_data_objects(ts)\n",
    "#     data_objects += i_data_object"
   ]
  },
  {
   "cell_type": "code",
   "execution_count": null,
   "id": "e7053a67-1f00-4165-b99c-a7fc2caceff8",
   "metadata": {},
   "outputs": [],
   "source": []
  },
  {
   "cell_type": "code",
   "execution_count": null,
   "id": "57f0ded0-7577-4108-a7f0-1b875ff3ba88",
   "metadata": {},
   "outputs": [],
   "source": [
    "# import torch\n",
    "# import networkx as nx\n",
    "# from torch_geometric.loader import DataLoader\n",
    "# from torch_geometric.utils.convert import from_networkx\n",
    "# from torch_geometric.utils.to_dense_adj import to_dense_adj\n",
    "# from torch_geometric.utils.to_dense_batch import to_dense_batch\n",
    "\n",
    "\n",
    "# bs = 8\n",
    "# dl = DataLoader(data_objects, batch_size=500*bs)\n",
    "# data_batch = next(iter(dl))\n",
    "# batch = data_batch\n",
    "# adj = to_dense_adj(batch.edge_index, batch=batch.batch, edge_attr=batch.edge_weight, max_num_nodes=None)\n",
    "# x, _ = to_dense_batch(batch.x, batch.batch)"
   ]
  },
  {
   "cell_type": "code",
   "execution_count": null,
   "id": "e81839cb-28b5-42c4-8dca-d4480ae4f333",
   "metadata": {},
   "outputs": [],
   "source": []
  },
  {
   "cell_type": "code",
   "execution_count": null,
   "id": "0ea32373-f989-46e3-9518-fcbcc670013e",
   "metadata": {},
   "outputs": [],
   "source": [
    "#demography, alpha_values, l_total, e_total = model(x, adj, batch_size=8)"
   ]
  },
  {
   "cell_type": "code",
   "execution_count": null,
   "id": "c5e99dd0-aa3f-44d0-bfc3-7f2cc3ba5123",
   "metadata": {},
   "outputs": [],
   "source": []
  },
  {
   "cell_type": "code",
   "execution_count": null,
   "id": "a3021418-bdf5-4668-ace0-c342f5b5d146",
   "metadata": {},
   "outputs": [],
   "source": []
  },
  {
   "cell_type": "code",
   "execution_count": null,
   "id": "6e36b16d-d50d-4483-ba8d-fecb89b5814e",
   "metadata": {},
   "outputs": [],
   "source": []
  },
  {
   "cell_type": "code",
   "execution_count": null,
   "id": "1d32281b-2c67-462d-b96c-d45a2df9005d",
   "metadata": {},
   "outputs": [],
   "source": []
  },
  {
   "cell_type": "code",
   "execution_count": null,
   "id": "a846ee78-4337-42a2-aa85-3cae771455f3",
   "metadata": {},
   "outputs": [],
   "source": []
  }
 ],
 "metadata": {
  "kernelspec": {
   "display_name": "python3",
   "language": "python",
   "name": "python3"
  }
 },
 "nbformat": 4,
 "nbformat_minor": 5
}
